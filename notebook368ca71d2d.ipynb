{
 "cells": [
  {
   "cell_type": "code",
   "execution_count": 1,
   "id": "05a43411",
   "metadata": {
    "_cell_guid": "b1076dfc-b9ad-4769-8c92-a6c4dae69d19",
    "_uuid": "8f2839f25d086af736a60e9eeb907d3b93b6e0e5",
    "execution": {
     "iopub.execute_input": "2024-10-13T01:26:44.985369Z",
     "iopub.status.busy": "2024-10-13T01:26:44.984952Z",
     "iopub.status.idle": "2024-10-13T01:26:45.907825Z",
     "shell.execute_reply": "2024-10-13T01:26:45.906584Z"
    },
    "papermill": {
     "duration": 0.930664,
     "end_time": "2024-10-13T01:26:45.910863",
     "exception": false,
     "start_time": "2024-10-13T01:26:44.980199",
     "status": "completed"
    },
    "tags": []
   },
   "outputs": [
    {
     "name": "stdout",
     "output_type": "stream",
     "text": [
      "/kaggle/input/deadlock-df/Deadlock_Items.csv\n",
      "/kaggle/input/deadlock-df/Deadlock_Hero_Stats.csv\n",
      "/kaggle/input/deadlock-df/Deadlock_Soul_Level.csv\n"
     ]
    }
   ],
   "source": [
    "# This Python 3 environment comes with many helpful analytics libraries installed\n",
    "# It is defined by the kaggle/python Docker image: https://github.com/kaggle/docker-python\n",
    "# For example, here's several helpful packages to load\n",
    "\n",
    "import numpy as np # linear algebra\n",
    "import pandas as pd # data processing, CSV file I/O (e.g. pd.read_csv)\n",
    "\n",
    "# Input data files are available in the read-only \"../input/\" directory\n",
    "# For example, running this (by clicking run or pressing Shift+Enter) will list all files under the input directory\n",
    "\n",
    "import os\n",
    "for dirname, _, filenames in os.walk('/kaggle/input'):\n",
    "    for filename in filenames:\n",
    "        print(os.path.join(dirname, filename))\n",
    "\n",
    "# You can write up to 20GB to the current directory (/kaggle/working/) that gets preserved as output when you create a version using \"Save & Run All\" \n",
    "# You can also write temporary files to /kaggle/temp/, but they won't be saved outside of the current session"
   ]
  },
  {
   "cell_type": "code",
   "execution_count": 2,
   "id": "e4f85e02",
   "metadata": {
    "execution": {
     "iopub.execute_input": "2024-10-13T01:26:45.918735Z",
     "iopub.status.busy": "2024-10-13T01:26:45.918166Z",
     "iopub.status.idle": "2024-10-13T01:26:46.038388Z",
     "shell.execute_reply": "2024-10-13T01:26:46.037091Z"
    },
    "papermill": {
     "duration": 0.127511,
     "end_time": "2024-10-13T01:26:46.041398",
     "exception": false,
     "start_time": "2024-10-13T01:26:45.913887",
     "status": "completed"
    },
    "tags": []
   },
   "outputs": [],
   "source": [
    "import pandas as pd\n",
    "import numpy as np\n",
    "import math\n",
    "\n",
    "df_hero_stats = pd.read_csv('/kaggle/input/deadlock-df/Deadlock_Hero_Stats.csv')\n",
    "df_items = pd.read_csv('/kaggle/input/deadlock-df/Deadlock_Items.csv')\n",
    "df_soul_level = pd.read_csv('/kaggle/input/deadlock-df/Deadlock_Soul_Level.csv')\n",
    "\n",
    "hero_name = \"Lady Geist\"\n",
    "weapon_1 = \"Basic Magazine\"\n",
    "weapon_2 = \"Long Range\"\n",
    "weapon_3 = \"Close Quarters\"\n",
    "weapon_4 = \"Titanic Magazine\"\n",
    "vitality_1 = \"Enduring Speed\"\n",
    "vitality_2 = \"Extra Stamina\"\n",
    "vitality_3 = \"Bullet Armor\"\n",
    "vitality_4 = \"Spirit Armor\"\n",
    "spirit_1 = \"Mystic Burst\"\n",
    "spirit_2 = \"Mystic Reach\"\n",
    "spirit_3 = \"Bullet Resist Shredder\"\n",
    "spirit_4 = \"Extra Spirit\"\n",
    "flex_1 = \"Mystic Shot\"\n",
    "flex_2 = \"Pristine Emblem\"\n",
    "flex_3 = \"Diviner's Kevlar\"\n",
    "flex_4 = \"Improved Cooldown\"\n",
    "\n",
    "weapon_slot_1 = df_items[df_items['item_name'] == weapon_1]\n",
    "weapon_slot_1.insert(0, \"hero_name\", [hero_name])\n",
    "weapon_slot_2 = df_items[df_items['item_name'] == weapon_2]\n",
    "weapon_slot_2.insert(0, \"hero_name\", [hero_name])\n",
    "weapon_slot_3 = df_items[df_items['item_name'] == weapon_3]\n",
    "weapon_slot_3.insert(0, \"hero_name\", [hero_name])\n",
    "weapon_slot_4 = df_items[df_items['item_name'] == weapon_4]\n",
    "weapon_slot_4.insert(0, \"hero_name\", [hero_name])\n",
    "vitality_slot_1 = df_items[df_items['item_name'] == vitality_1]\n",
    "vitality_slot_1.insert(0, \"hero_name\", [hero_name])\n",
    "vitality_slot_2 = df_items[df_items['item_name'] == vitality_2]\n",
    "vitality_slot_2.insert(0, \"hero_name\", [hero_name])\n",
    "vitality_slot_3 = df_items[df_items['item_name'] == vitality_3]\n",
    "vitality_slot_3.insert(0, \"hero_name\", [hero_name])\n",
    "vitality_slot_4 = df_items[df_items['item_name'] == vitality_4]\n",
    "vitality_slot_4.insert(0, \"hero_name\", [hero_name])\n",
    "spirit_slot_1 = df_items[df_items['item_name'] == spirit_1]\n",
    "spirit_slot_1.insert(0, \"hero_name\", [hero_name])\n",
    "spirit_slot_2 = df_items[df_items['item_name'] == spirit_2]\n",
    "spirit_slot_2.insert(0, \"hero_name\", [hero_name])\n",
    "spirit_slot_3 = df_items[df_items['item_name'] == spirit_3]\n",
    "spirit_slot_3.insert(0, \"hero_name\", [hero_name])\n",
    "spirit_slot_4 = df_items[df_items['item_name'] == spirit_4]\n",
    "spirit_slot_4.insert(0, \"hero_name\", [hero_name])\n",
    "flex_slot_1 = df_items[df_items['item_name'] == flex_1]\n",
    "flex_slot_1.insert(0, \"hero_name\", [hero_name])\n",
    "flex_slot_2 = df_items[df_items['item_name'] == flex_2]\n",
    "flex_slot_2.insert(0, \"hero_name\", [hero_name])\n",
    "flex_slot_3 = df_items[df_items['item_name'] == flex_3]\n",
    "flex_slot_3.insert(0, \"hero_name\", [hero_name])\n",
    "flex_slot_4 = df_items[df_items['item_name'] == flex_4]\n",
    "flex_slot_4.insert(0, \"hero_name\", [hero_name])\n",
    "\n",
    "full_build = [weapon_slot_1, weapon_slot_2, weapon_slot_3, weapon_slot_4, vitality_slot_1, vitality_slot_2, vitality_slot_3, vitality_slot_4, spirit_slot_1, spirit_slot_2, spirit_slot_3, spirit_slot_4, flex_slot_1, flex_slot_2, flex_slot_3, flex_slot_4]\n",
    "\n",
    "full_build_data = pd.concat(full_build)\n",
    "\n",
    "item_ammo_perc = full_build_data.groupby(['hero_name']).sum()[['ammo_perc']]\n",
    "item_ammo_raw = full_build_data.groupby(['hero_name']).sum()[['ammo_raw']]\n",
    "item_weapon_dmg_perc = full_build_data.groupby(['hero_name']).sum()[['weapon_damage_perc']]\n",
    "item_spirit_power = full_build_data.groupby(['hero_name']).sum()[['spirit_power']]\n",
    "item_move_speed = full_build_data.groupby(['hero_name']).sum()[['move_speed']]\n",
    "item_stamina = full_build_data.groupby(['hero_name']).sum()[['stamina']]\n",
    "item_total_souls = full_build_data.groupby(['hero_name']).sum()[['total_cost']]\n",
    "\n",
    "if (item_total_souls['total_cost'] > 19999).any():\n",
    "    power_increase = 15\n",
    "elif (item_total_souls['total_cost'] > 17999).any():\n",
    "    power_increase = 14\n",
    "elif (item_total_souls['total_cost'] > 16999).any():\n",
    "    power_increase = 13\n",
    "elif (item_total_souls['total_cost'] > 15999).any():\n",
    "    power_increase = 12\n",
    "elif (item_total_souls['total_cost'] > 14999).any():\n",
    "    power_increase = 11\n",
    "elif (item_total_souls['total_cost'] > 13999).any():\n",
    "    power_increase = 10\n",
    "elif (item_total_souls['total_cost'] > 12999).any():\n",
    "    power_increase = 9\n",
    "elif (item_total_souls['total_cost'] > 11999).any():\n",
    "    power_increase = 8\n",
    "elif (item_total_souls['total_cost'] > 10499).any():\n",
    "    power_increase = 7\n",
    "elif (item_total_souls['total_cost'] > 8999).any():\n",
    "    power_increase = 6\n",
    "elif (item_total_souls['total_cost'] > 7499).any():\n",
    "    power_increase = 5\n",
    "elif (item_total_souls['total_cost'] > 5999).any():\n",
    "    power_increase = 4\n",
    "elif (item_total_souls['total_cost'] > 4499).any():\n",
    "    power_increase = 3\n",
    "elif (item_total_souls['total_cost'] > 2199).any():\n",
    "    power_increase = 2\n",
    "elif (item_total_souls['total_cost'] > 1199).any():\n",
    "    power_increase = 1\n",
    "else:\n",
    "    power_increase = 0\n"
   ]
  },
  {
   "cell_type": "code",
   "execution_count": 3,
   "id": "471b888a",
   "metadata": {
    "execution": {
     "iopub.execute_input": "2024-10-13T01:26:46.049326Z",
     "iopub.status.busy": "2024-10-13T01:26:46.048447Z",
     "iopub.status.idle": "2024-10-13T01:26:46.058121Z",
     "shell.execute_reply": "2024-10-13T01:26:46.056875Z"
    },
    "papermill": {
     "duration": 0.016656,
     "end_time": "2024-10-13T01:26:46.060982",
     "exception": false,
     "start_time": "2024-10-13T01:26:46.044326",
     "status": "completed"
    },
    "tags": []
   },
   "outputs": [],
   "source": [
    "df_chosen_hero = df_hero_stats[df_hero_stats['hero_name'] == hero_name]\n",
    "\n",
    "base_hero_bullet_dmg = df_chosen_hero['true_bullet_damage']\n",
    "base_hero_ammo = df_chosen_hero['ammo']\n",
    "base_hero_bullets_per_sec = df_chosen_hero['bullets_per_second']\n",
    "base_hero_light_melee = df_chosen_hero['light_melee']\n",
    "base_hero_heavy_melee = df_chosen_hero['heavy_melee']\n",
    "base_hero_max_health = df_chosen_hero['base_max_health']\n",
    "base_hero_health_regen = df_chosen_hero['base_health_regen']\n",
    "base_hero_bullet_resist = df_chosen_hero['base_bullet_resist']\n",
    "base_hero_spirit_resist = df_chosen_hero['base_spirit_resist']\n",
    "base_hero_move_speed = df_chosen_hero['base_move_speed']\n",
    "base_hero_sprint_speed = df_chosen_hero['base_sprint_speed']\n",
    "base_hero_stamina = df_chosen_hero['base_stamina']\n",
    "base_hero_bullet_velocity = df_chosen_hero['bullet velocity (m/s)']\n",
    "level_up_base_bullet_damage_increase = df_chosen_hero['level_up_base_bullet_damage_increase']\n",
    "level_up_total_base_bullet_damage_increase = power_increase * level_up_base_bullet_damage_increase\n"
   ]
  },
  {
   "cell_type": "code",
   "execution_count": 4,
   "id": "faf95236",
   "metadata": {
    "execution": {
     "iopub.execute_input": "2024-10-13T01:26:46.068011Z",
     "iopub.status.busy": "2024-10-13T01:26:46.067618Z",
     "iopub.status.idle": "2024-10-13T01:26:46.077670Z",
     "shell.execute_reply": "2024-10-13T01:26:46.076633Z"
    },
    "papermill": {
     "duration": 0.016423,
     "end_time": "2024-10-13T01:26:46.080171",
     "exception": false,
     "start_time": "2024-10-13T01:26:46.063748",
     "status": "completed"
    },
    "tags": []
   },
   "outputs": [],
   "source": [
    "final_stamina = item_stamina.sum() + base_hero_stamina.sum()\n",
    "\n",
    "final_base_bullet_damage = base_hero_bullet_dmg.sum() + level_up_total_base_bullet_damage_increase\n",
    "final_base_bullet_damage = float(final_base_bullet_damage.iloc[0])\n",
    "final_bullet_damage = final_base_bullet_damage * (1 + item_weapon_dmg_perc['weapon_damage_perc'])\n",
    "\n",
    "final_base_ammo = base_hero_ammo.sum() + item_ammo_raw['ammo_raw']\n",
    "final_base_ammo = float(final_base_ammo.iloc[0])\n",
    "final_ammo = final_base_ammo * (1 + item_ammo_perc['ammo_perc'])\n",
    "final_ammo = math.ceil(final_ammo.iloc[0])\n",
    "\n",
    "final_bullets_per_sec = base_hero_bullets_per_sec.sum()"
   ]
  },
  {
   "cell_type": "code",
   "execution_count": 5,
   "id": "706bed5c",
   "metadata": {
    "execution": {
     "iopub.execute_input": "2024-10-13T01:26:46.087115Z",
     "iopub.status.busy": "2024-10-13T01:26:46.086707Z",
     "iopub.status.idle": "2024-10-13T01:26:46.105224Z",
     "shell.execute_reply": "2024-10-13T01:26:46.104043Z"
    },
    "papermill": {
     "duration": 0.025056,
     "end_time": "2024-10-13T01:26:46.107863",
     "exception": false,
     "start_time": "2024-10-13T01:26:46.082807",
     "status": "completed"
    },
    "tags": []
   },
   "outputs": [
    {
     "data": {
      "text/html": [
       "<div>\n",
       "<style scoped>\n",
       "    .dataframe tbody tr th:only-of-type {\n",
       "        vertical-align: middle;\n",
       "    }\n",
       "\n",
       "    .dataframe tbody tr th {\n",
       "        vertical-align: top;\n",
       "    }\n",
       "\n",
       "    .dataframe thead th {\n",
       "        text-align: right;\n",
       "    }\n",
       "</style>\n",
       "<table border=\"1\" class=\"dataframe\">\n",
       "  <thead>\n",
       "    <tr style=\"text-align: right;\">\n",
       "      <th></th>\n",
       "      <th>ammo_raw</th>\n",
       "    </tr>\n",
       "    <tr>\n",
       "      <th>hero_name</th>\n",
       "      <th></th>\n",
       "    </tr>\n",
       "  </thead>\n",
       "  <tbody>\n",
       "    <tr>\n",
       "      <th>Lady Geist</th>\n",
       "      <td>0.0</td>\n",
       "    </tr>\n",
       "  </tbody>\n",
       "</table>\n",
       "</div>"
      ],
      "text/plain": [
       "            ammo_raw\n",
       "hero_name           \n",
       "Lady Geist       0.0"
      ]
     },
     "execution_count": 5,
     "metadata": {},
     "output_type": "execute_result"
    }
   ],
   "source": [
    "item_ammo_raw"
   ]
  }
 ],
 "metadata": {
  "kaggle": {
   "accelerator": "none",
   "dataSources": [
    {
     "datasetId": 5864676,
     "sourceId": 9611220,
     "sourceType": "datasetVersion"
    }
   ],
   "dockerImageVersionId": 30786,
   "isGpuEnabled": false,
   "isInternetEnabled": false,
   "language": "python",
   "sourceType": "notebook"
  },
  "kernelspec": {
   "display_name": "Python 3",
   "language": "python",
   "name": "python3"
  },
  "language_info": {
   "codemirror_mode": {
    "name": "ipython",
    "version": 3
   },
   "file_extension": ".py",
   "mimetype": "text/x-python",
   "name": "python",
   "nbconvert_exporter": "python",
   "pygments_lexer": "ipython3",
   "version": "3.10.14"
  },
  "papermill": {
   "default_parameters": {},
   "duration": 4.582826,
   "end_time": "2024-10-13T01:26:46.632751",
   "environment_variables": {},
   "exception": null,
   "input_path": "__notebook__.ipynb",
   "output_path": "__notebook__.ipynb",
   "parameters": {},
   "start_time": "2024-10-13T01:26:42.049925",
   "version": "2.6.0"
  }
 },
 "nbformat": 4,
 "nbformat_minor": 5
}
